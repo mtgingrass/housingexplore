{
  "nbformat": 4,
  "nbformat_minor": 0,
  "metadata": {
    "colab": {
      "name": "Untitled0.ipynb",
      "version": "0.3.2",
      "provenance": [],
      "collapsed_sections": [],
      "include_colab_link": true
    },
    "kernelspec": {
      "name": "python3",
      "display_name": "Python 3"
    }
  },
  "cells": [
    {
      "cell_type": "markdown",
      "metadata": {
        "id": "view-in-github",
        "colab_type": "text"
      },
      "source": [
        "[View in Colaboratory](https://colab.research.google.com/github/mtgingrass/housingexplore/blob/master/LearnPython.ipynb)"
      ]
    },
    {
      "metadata": {
        "id": "dWx52hrzEr73",
        "colab_type": "text"
      },
      "cell_type": "markdown",
      "source": [
        "Word Count"
      ]
    },
    {
      "metadata": {
        "id": "yMu85-vKEvOC",
        "colab_type": "code",
        "colab": {
          "base_uri": "https://localhost:8080/",
          "height": 121
        },
        "outputId": "74e196e0-f35f-41bc-c698-3af589f76333"
      },
      "cell_type": "code",
      "source": [
        "quote = \"\"\"I wish you'd stop talking.\n",
        "I wish you'd stop prying and trying to find things out.\n",
        "I wish you were dead. No. That was silly and unkind.\n",
        "But I wish you'd stop talking.\"\"\"\n",
        "print (quote)\n",
        "\n",
        "def countWords1 (s):\n",
        "    \"\"\"Counts the number of words in a given input string.\"\"\"\n",
        "    Lines = s.split ('\\n')\n",
        "    count = 0\n",
        "    for line in Lines:\n",
        "        Words_in_line = line.split ()\n",
        "        count = count + len (Words_in_line)\n",
        "    return count\n",
        "\n",
        "def countWords2 (s):\n",
        "    \"\"\"Counts the number of words in a given input string.\"\"\"\n",
        "    return len (quote.split ())\n",
        "\n",
        "count1 = countWords1 (quote)\n",
        "count2 = countWords2 (quote)\n",
        "print (\"\\nWord count: Method 1 says %d words, and Method 2 says %d.\" % (count1, count2))\n",
        "assert count1 == count2"
      ],
      "execution_count": 13,
      "outputs": [
        {
          "output_type": "stream",
          "text": [
            "I wish you'd stop talking.\n",
            "I wish you'd stop prying and trying to find things out.\n",
            "I wish you were dead. No. That was silly and unkind.\n",
            "But I wish you'd stop talking.\n",
            "\n",
            "Word count: Method 1 says 33 words, and Method 2 says 33.\n"
          ],
          "name": "stdout"
        }
      ]
    }
  ]
}